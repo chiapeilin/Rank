{
 "cells": [
  {
   "cell_type": "code",
   "execution_count": 10,
   "metadata": {},
   "outputs": [
    {
     "name": "stdout",
     "output_type": "stream",
     "text": [
      "[1, 1, 1, 1, 8, 16, 11, 24, 12, 5, 3]\n"
     ]
    },
    {
     "data": {
      "text/plain": [
       "Text(0,0.5,'Number of people')"
      ]
     },
     "execution_count": 10,
     "metadata": {},
     "output_type": "execute_result"
    },
    {
     "data": {
      "image/png": "[encoded data removed]",
      "text/plain": [
       "<Figure size 432x288 with 1 Axes>"
      ]
     },
     "metadata": {},
     "output_type": "display_data"
    }
   ],
   "source": [
    "%matplotlib inline\n",
    "import matplotlib.pyplot as plt\n",
    "data,lis=[],[]\n",
    "#Each line of data after reading \\n is removed and stored in the data string.\n",
    "with open(\"pressure.csv\",\"r\") as f:\n",
    "\tfor line in f:\n",
    "\t\tdata.append(line.strip())\n",
    "#(Hive string) divides each row in Data into splits and adds them to the lis string.\n",
    "\tfor l in range(1,len(data)):\n",
    "\t\tlis.append(data[l].split(\",\"))\n",
    "\n",
    "\n",
    "pressure=[]\n",
    "for i in range(len(lis)):\n",
    "    pressure.append(lis[i][1])\n",
    "    \n",
    "#Count the number of people for each value\n",
    "a=[\"0\",\"1\",\"2\",\"3\",\"4\",\"5\",\"6\",\"7\",\"8\",\"9\",\"10\"]\n",
    "pop=[]\n",
    "for i in a:\n",
    "    p=pressure.count(i) \n",
    "    pop.append(p)\n",
    "print(pop)\n",
    "\n",
    "#Plot the distribution of pressure levels in bar chart\n",
    "x=[0,1,2,3,4,5,6,7,8,9,10]\n",
    "y=pop\n",
    "plt.bar(x,y)\n",
    "plt.title(\"Pressure Distribution\")\n",
    "plt.xlabel(\"Pressure Level(0~10)\")\n",
    "plt.ylabel(\"Number of people\")"
   ]
  },
  {
   "cell_type": "code",
   "execution_count": 1,
   "metadata": {},
   "outputs": [
    {
     "data": {
      "image/png": "[encoded data removed]",
      "text/plain": [
       "<Figure size 432x288 with 1 Axes>"
      ]
     },
     "metadata": {},
     "output_type": "display_data"
    }
   ],
   "source": [
    "%matplotlib inline\n",
    "import matplotlib.pyplot as plt\n",
    "import pandas as pd\n",
    "data,lis=[],[]\n",
    "#Each line of data after reading \\n is removed and stored in the data string.\n",
    "with open(\"pressure.csv\",\"r\") as f:\n",
    "\tfor line in f:\n",
    "\t\tdata.append(line.strip())\n",
    "#(Hive string) divides each row in Data into splits and adds them to the lis string.\n",
    "\tfor l in range(1,len(data)):\n",
    "\t\tlis.append(data[l].split(\",\"))\n",
    "\n",
    "\n",
    "pressure=[]\n",
    "for i in range(len(lis)):\n",
    "    pressure.append(lis[i][1])\n",
    "\n",
    "a=[\"0\",\"1\",\"2\",\"3\",\"4\",\"5\",\"6\",\"7\",\"8\",\"9\",\"10\"]\n",
    "pop=[]\n",
    "for i in a:\n",
    "    p=pressure.count(i)\n",
    "    pop.append(p)\n",
    "    \n",
    "#Number of people with low, medium and high pressure values\n",
    "a=[]\n",
    "low=pop[0]+pop[1]+pop[2]+pop[3]\n",
    "medium=pop[4]+pop[5]+pop[6]\n",
    "high=pop[7]+pop[8]+pop[9]+pop[10]\n",
    "a.append(low)  \n",
    "a.append(medium)\n",
    "a.append(high)\n",
    "\n",
    "#Plot the distribution of three pressure categories in pie chart.\n",
    "leval=[\"Low\",\"Middle\",\"High\"]\n",
    "plt.axis(\"equal\")\n",
    "plt.pie(a,autopct=\"%0.2f%%\",labels=leval)\n",
    "plt.title(\"Pressure Level\")\n",
    "plt.legend()\n",
    "plt.show()\n"
   ]
  },
  {
   "cell_type": "code",
   "execution_count": 11,
   "metadata": {},
   "outputs": [
    {
     "name": "stdout",
     "output_type": "stream",
     "text": [
      "[['106', 1, 1, 1], ['107', 1, 4, 8], ['108', 1, 7, 16], ['109', 1, 12, 8], ['110', 0, 11, 11]]\n"
     ]
    },
    {
     "data": {
      "image/png": "[encoded data removed]",
      "text/plain": [
       "<Figure size 432x288 with 1 Axes>"
      ]
     },
     "metadata": {},
     "output_type": "display_data"
    }
   ],
   "source": [
    "%matplotlib inline\n",
    "import matplotlib.pyplot as plt\n",
    "import pandas as pd\n",
    "\n",
    "data,lis=[],[]\n",
    "#Each line of data after reading \\n is removed and stored in the data string.\n",
    "with open(\"pressure.csv\",\"r\") as f:\n",
    "\tfor line in f:\n",
    "\t\tdata.append(line.strip())\n",
    "#(Hive string) divides each row in Data into splits and adds them to the lis string.\n",
    "\tfor l in range(1,len(data)):\n",
    "\t\tlis.append(data[l].split(\",\"))\n",
    "        \n",
    "for i in range(len(lis)):\n",
    "    lis[i][1]=int(lis[i][1])#Turn pressure into value\n",
    "    \n",
    "def pressure(d,k):\n",
    "    a,b,c=0,0,0\n",
    "    s=[]\n",
    "    for i in range(len(lis)):\n",
    "        if d[i][0]==k:\n",
    "            #Stress level grading\n",
    "            if 0<=lis[i][1]<=3:\n",
    "                a+=1\n",
    "            if 4<=lis[i][1]<=6:\n",
    "                b+=1\n",
    "            if 7<=lis[i][1]<=10:\n",
    "                c+=1\n",
    "    s.extend([k,a,b,c])\n",
    "    return s\n",
    "\n",
    "#Collect all grades of data into the series\n",
    "lis1=[]\n",
    "lis1.append(pressure(lis,\"106\"))\n",
    "lis1.append(pressure(lis,\"107\"))\n",
    "lis1.append(pressure(lis,\"108\")) \n",
    "lis1.append(pressure(lis,\"109\")) \n",
    "lis1.append(pressure(lis,\"110\")) \n",
    "\n",
    "low,mid,high=[],[],[]\n",
    "for i in range(len(lis1)):\n",
    "    low.append(lis1[i][1])\n",
    "    mid.append(lis1[i][2])\n",
    "    high.append(lis1[i][3])\n",
    "print(lis1)\n",
    "    \n",
    "#Plot the distribution of pressure categories in different grades.            \n",
    "import numpy as np\n",
    "x=np.arange(5)\n",
    "plt.bar(x,low,width=0.2,color=\"b\")\n",
    "plt.bar(x+0.2,mid,width=0.2,color=\"orange\")\n",
    "plt.bar(x+0.4,high,width=0.2,color=\"g\")\n",
    "plt.xticks(x+0.6/3,[\"106\",\"107\",\"108\",\"109\",\"110\"])\n",
    "plt.legend([\"Low\",\"Middle\",\"High\"])\n",
    "plt.show()\n",
    "\n",
    "            "
   ]
  }
 ],
 "metadata": {
  "kernelspec": {
   "display_name": "Python 3",
   "language": "python",
   "name": "python3"
  },
  "language_info": {
   "codemirror_mode": {
    "name": "ipython",
    "version": 3
   },
   "file_extension": ".py",
   "mimetype": "text/x-python",
   "name": "python",
   "nbconvert_exporter": "python",
   "pygments_lexer": "ipython3",
   "version": "3.6.2"
  }
 },
 "nbformat": 4,
 "nbformat_minor": 2
}
