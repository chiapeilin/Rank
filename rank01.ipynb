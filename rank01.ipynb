{
 "cells": [
  {
   "cell_type": "code",
   "execution_count": 1,
   "metadata": {},
   "outputs": [
    {
     "data": {
      "text/plain": [
       "'United States?(USA) [P] [Q] [R] [Z]'"
      ]
     },
     "execution_count": 1,
     "metadata": {},
     "output_type": "execute_result"
    }
   ],
   "source": [
    "#Find the country that won the most gold medals in summer games\n",
    "import pandas as pd\n",
    "df=pd.read_csv(\"olympics.csv\")[[\"0\",\"2\"]][0:147]#Read the file and make a (national and summer gold medal) into a table and remove the last piece of information\n",
    "pd.Series(list(df[\"2\"]),index=df[\"0\"]).idxmax()#Make a (National and Summer Gold Medal) into a Series, the country with the most gold medals"
   ]
  },
  {
   "cell_type": "code",
   "execution_count": 3,
   "metadata": {},
   "outputs": [
    {
     "data": {
      "text/plain": [
       "'United States?(USA) [P] [Q] [R] [Z]'"
      ]
     },
     "execution_count": 3,
     "metadata": {},
     "output_type": "execute_result"
    }
   ],
   "source": [
    "#Find the country with the biggest difference between their summer and winter gold medal counts\n",
    "import pandas as pd\n",
    "df=pd.read_csv(\"olympics.csv\")[[\"0\",\"2\",\"7\"]][0:147]#Read the file and make a (national, summer gold medal, winter gold medal) into a table and remove the last data\n",
    "pd.Series(list(abs(df[\"2\"]-df[\"7\"])),index=df[\"0\"]).idxmax()#Make (National, Summer Gold, Winter Gold) into a Series, and take out the countries with the most gold medals."
   ]
  },
  {
   "cell_type": "code",
   "execution_count": 4,
   "metadata": {},
   "outputs": [
    {
     "data": {
      "text/plain": [
       "'Bulgaria?(BUL) [H]'"
      ]
     },
     "execution_count": 4,
     "metadata": {},
     "output_type": "execute_result"
    }
   ],
   "source": [
    "#Find the country with the biggest difference between their summer and winter gold medal counts relative to their total gold medal count\n",
    "import pandas as pd\n",
    "df=pd.read_csv(\"olympics.csv\")[[\"0\",\"2\",\"7\",\"12\"]][0:147]#Read the file and make (the country, summer gold medal, winter gold medal, all gold medal) into a table and remove the last data.\n",
    "df=df[df[\"2\"]!=0] #Determine if the summer gold medal is 0\n",
    "df=df[df[\"7\"]!=0] #Determine if the winter gold medal is 0\n",
    "pd.Series(list(abs((df[\"2\"]-df[\"7\"])/df[\"12\"])),index=df[\"0\"]).idxmax()\n",
    "#Make into a series and take the country with the highest value"
   ]
  }
 ],
 "metadata": {
  "kernelspec": {
   "display_name": "Python 3",
   "language": "python",
   "name": "python3"
  },
  "language_info": {
   "codemirror_mode": {
    "name": "ipython",
    "version": 3
   },
   "file_extension": ".py",
   "mimetype": "text/x-python",
   "name": "python",
   "nbconvert_exporter": "python",
   "pygments_lexer": "ipython3",
   "version": "3.6.2"
  }
 },
 "nbformat": 4,
 "nbformat_minor": 2
}
