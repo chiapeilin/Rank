{
 "cells": [
  {
   "cell_type": "code",
   "execution_count": 30,
   "metadata": {},
   "outputs": [
    {
     "data": {
      "text/plain": [
       "'Texas'"
      ]
     },
     "execution_count": 30,
     "metadata": {},
     "output_type": "execute_result"
    }
   ],
   "source": [
    "#Find the state with the most counties in it\n",
    "import pandas as pd\n",
    "df,f,max_c=pd.read_csv(\"census.csv\"),0,\"\"  #Read the file\n",
    "for i in df[df[\"SUMLEV\"]==50].groupby(df['STNAME']): #Use group to sort out the data of the same county\n",
    "    if i[1].shape[0]>f:  #Replace if the current value is greater than the original maximum\n",
    "        max_c,f=i[0],i[1].shape[0] \n",
    "max_c"
   ]
  },
  {
   "cell_type": "code",
   "execution_count": 29,
   "metadata": {},
   "outputs": [
    {
     "data": {
      "text/plain": [
       "Index(['California', 'Texas', 'Illinois'], dtype='object')"
      ]
     },
     "execution_count": 29,
     "metadata": {},
     "output_type": "execute_result"
    }
   ],
   "source": [
    "#Only looking at the three most populous counties for each state and find the three most populous states\n",
    "import pandas as pd\n",
    "df=pd.read_csv(\"census.csv\")\n",
    "a,b=[],[]\n",
    "for i in df[df[\"SUMLEV\"]==50].groupby(df['STNAME']):#Use group to sort out the data of the same county\n",
    "    a.append(i[1][\"CENSUS2010POP\"].sort_values().tail(3).sum())#Take the number of people and add the three counties with the largest number in the state.\n",
    "    b.append(i[0])#Take out the state\n",
    "pd.Series(a,index=b).sort_values().tail(3)[::-1].index#Make the state and the number of people into a series and take out the top three states\n"
   ]
  },
  {
   "cell_type": "code",
   "execution_count": 1,
   "metadata": {},
   "outputs": [
    {
     "data": {
      "text/plain": [
       "'Texas'"
      ]
     },
     "execution_count": 1,
     "metadata": {},
     "output_type": "execute_result"
    }
   ],
   "source": [
    "#Find the county with the largest change in population within the five year period\n",
    "import pandas as pd\n",
    "df=pd.read_csv(\"census.csv\")\n",
    "c=df[[\"POPESTIMATE2010\",\"POPESTIMATE2011\",\"POPESTIMATE2012\",\"POPESTIMATE2013\",\"POPESTIMATE2014\",\"POPESTIMATE2015\"]]#取出各年份的人數\n",
    "c.index,m,a=df[\"CTYNAME\"],0,\"\"\n",
    "for i in range(c.shape[0]):#The scope must be in several pieces of information in each state\n",
    "    if c.iloc[i].max()-c.iloc[i].min()>m: #Replace if the current value is greater than the original maximum\n",
    "        m,a=c.iloc[i].max()-c.iloc[i].min(),c.index[i] \n",
    "a"
   ]
  }
 ],
 "metadata": {
  "kernelspec": {
   "display_name": "Python 3",
   "language": "python",
   "name": "python3"
  },
  "language_info": {
   "codemirror_mode": {
    "name": "ipython",
    "version": 3
   },
   "file_extension": ".py",
   "mimetype": "text/x-python",
   "name": "python",
   "nbconvert_exporter": "python",
   "pygments_lexer": "ipython3",
   "version": "3.6.2"
  }
 },
 "nbformat": 4,
 "nbformat_minor": 2
}
